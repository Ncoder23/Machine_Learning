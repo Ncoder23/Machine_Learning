{
 "cells": [
  {
   "cell_type": "markdown",
   "id": "52c948c4",
   "metadata": {},
   "source": [
    "# Practical 5: Implement Python script using Scikit learn library to build a Gaussian Naïve Bayes Model."
   ]
  },
  {
   "cell_type": "code",
   "execution_count": null,
   "id": "d0c2f45c",
   "metadata": {},
   "outputs": [],
   "source": [
    "import pandas as pd\n",
    "import numpy as np\n",
    "dataframe = pd.read_csv('iris_species.csv')"
   ]
  },
  {
   "cell_type": "code",
   "execution_count": 3,
   "id": "6978cd7c",
   "metadata": {},
   "outputs": [
    {
     "name": "stdout",
     "output_type": "stream",
     "text": [
      "The DataFrame Contains 100 Rows And 5 Columns\n"
     ]
    }
   ],
   "source": [
    "print('The DataFrame Contains %d Rows And %d Columns'%(dataframe.shape))"
   ]
  },
  {
   "cell_type": "code",
   "execution_count": 4,
   "id": "38ae5cdd",
   "metadata": {},
   "outputs": [
    {
     "name": "stdout",
     "output_type": "stream",
     "text": [
      "Sepal.Length    float64\n",
      "Sepal.Width     float64\n",
      "Petal.Length    float64\n",
      "Petal.Width     float64\n",
      "Species          object\n",
      "dtype: object\n"
     ]
    }
   ],
   "source": [
    "print(dataframe.dtypes)"
   ]
  },
  {
   "cell_type": "code",
   "execution_count": 5,
   "id": "9fa69354",
   "metadata": {},
   "outputs": [
    {
     "name": "stdout",
     "output_type": "stream",
     "text": [
      "<class 'pandas.core.frame.DataFrame'>\n",
      "RangeIndex: 100 entries, 0 to 99\n",
      "Data columns (total 5 columns):\n",
      " #   Column        Non-Null Count  Dtype  \n",
      "---  ------        --------------  -----  \n",
      " 0   Sepal.Length  100 non-null    float64\n",
      " 1   Sepal.Width   100 non-null    float64\n",
      " 2   Petal.Length  100 non-null    float64\n",
      " 3   Petal.Width   100 non-null    float64\n",
      " 4   Species       100 non-null    object \n",
      "dtypes: float64(4), object(1)\n",
      "memory usage: 4.0+ KB\n",
      "None\n"
     ]
    }
   ],
   "source": [
    "print(dataframe.info())"
   ]
  },
  {
   "cell_type": "code",
   "execution_count": 6,
   "id": "93d971b9",
   "metadata": {},
   "outputs": [
    {
     "name": "stdout",
     "output_type": "stream",
     "text": [
      "   Sepal.Length  Sepal.Width  Petal.Length  Petal.Width     Species\n",
      "0           7.0          3.2           4.7          1.4  versicolor\n",
      "1           6.4          3.2           4.5          1.5  versicolor\n",
      "2           6.9          3.1           4.9          1.5  versicolor\n",
      "3           5.5          2.3           4.0          1.3  versicolor\n",
      "4           6.5          2.8           4.6          1.5  versicolor\n",
      "5           5.7          2.8           4.5          1.3  versicolor\n",
      "6           6.3          3.3           4.7          1.6  versicolor\n"
     ]
    }
   ],
   "source": [
    "print(dataframe.head(7))"
   ]
  },
  {
   "cell_type": "code",
   "execution_count": 7,
   "id": "28252a03",
   "metadata": {},
   "outputs": [],
   "source": [
    "features = dataframe.iloc[:, 0:4]"
   ]
  },
  {
   "cell_type": "code",
   "execution_count": 8,
   "id": "a5ef2f39",
   "metadata": {},
   "outputs": [
    {
     "name": "stdout",
     "output_type": "stream",
     "text": [
      "   Sepal.Length  Sepal.Width  Petal.Length  Petal.Width\n",
      "0           7.0          3.2           4.7          1.4\n",
      "1           6.4          3.2           4.5          1.5\n",
      "2           6.9          3.1           4.9          1.5\n",
      "3           5.5          2.3           4.0          1.3\n",
      "4           6.5          2.8           4.6          1.5\n"
     ]
    }
   ],
   "source": [
    "print(features.head())"
   ]
  },
  {
   "cell_type": "code",
   "execution_count": 9,
   "id": "d208c747",
   "metadata": {},
   "outputs": [],
   "source": [
    "target = dataframe.iloc[:, -1]"
   ]
  },
  {
   "cell_type": "code",
   "execution_count": 10,
   "id": "4ec699a3",
   "metadata": {},
   "outputs": [
    {
     "name": "stdout",
     "output_type": "stream",
     "text": [
      "0    versicolor\n",
      "1    versicolor\n",
      "2    versicolor\n",
      "3    versicolor\n",
      "4    versicolor\n",
      "Name: Species, dtype: object\n"
     ]
    }
   ],
   "source": [
    " print(target.head())"
   ]
  },
  {
   "cell_type": "code",
   "execution_count": 11,
   "id": "a596a032",
   "metadata": {},
   "outputs": [],
   "source": [
    "from sklearn.naive_bayes import GaussianNB\n",
    "algorithm = GaussianNB(priors=None, var_smoothing=1e-9)"
   ]
  },
  {
   "cell_type": "code",
   "execution_count": 12,
   "id": "1462d3fb",
   "metadata": {},
   "outputs": [
    {
     "data": {
      "text/plain": [
       "GaussianNB()"
      ]
     },
     "execution_count": 12,
     "metadata": {},
     "output_type": "execute_result"
    }
   ],
   "source": [
    "algorithm.fit(features, target)"
   ]
  },
  {
   "cell_type": "code",
   "execution_count": 13,
   "id": "25938208",
   "metadata": {},
   "outputs": [
    {
     "name": "stdout",
     "output_type": "stream",
     "text": [
      "['versicolor' 'virginica']\n"
     ]
    }
   ],
   "source": [
    "print(algorithm.classes_)"
   ]
  },
  {
   "cell_type": "code",
   "execution_count": 16,
   "id": "d3dfc81a",
   "metadata": {},
   "outputs": [
    {
     "name": "stdout",
     "output_type": "stream",
     "text": [
      "The Gaussian Model Has Achieved 0.94 Percent Accuracy\n"
     ]
    }
   ],
   "source": [
    "print('The Gaussian Model Has Achieved %.2f Percent Accuracy'%(algorithm.score(features, target)))"
   ]
  },
  {
   "cell_type": "code",
   "execution_count": 17,
   "id": "4be1a205",
   "metadata": {},
   "outputs": [],
   "source": [
    "observation = [[5.0, 3.7, 1.6, 0.1]]"
   ]
  },
  {
   "cell_type": "code",
   "execution_count": 19,
   "id": "5da05585",
   "metadata": {},
   "outputs": [
    {
     "name": "stdout",
     "output_type": "stream",
     "text": [
      "['versicolor']\n"
     ]
    }
   ],
   "source": [
    "print(algorithm.predict(observation))"
   ]
  },
  {
   "cell_type": "code",
   "execution_count": 20,
   "id": "1a62ed53",
   "metadata": {},
   "outputs": [
    {
     "name": "stdout",
     "output_type": "stream",
     "text": [
      "[[1. 0.]]\n"
     ]
    }
   ],
   "source": [
    "print(algorithm.predict_proba(observation).round())"
   ]
  },
  {
   "cell_type": "code",
   "execution_count": null,
   "id": "befeb4c1",
   "metadata": {},
   "outputs": [],
   "source": []
  }
 ],
 "metadata": {
  "kernelspec": {
   "display_name": "Python 3",
   "language": "python",
   "name": "python3"
  },
  "language_info": {
   "codemirror_mode": {
    "name": "ipython",
    "version": 3
   },
   "file_extension": ".py",
   "mimetype": "text/x-python",
   "name": "python",
   "nbconvert_exporter": "python",
   "pygments_lexer": "ipython3",
   "version": "3.9.5"
  }
 },
 "nbformat": 4,
 "nbformat_minor": 5
}
