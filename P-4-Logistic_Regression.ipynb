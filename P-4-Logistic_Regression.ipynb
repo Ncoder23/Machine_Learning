{
 "cells": [
  {
   "cell_type": "markdown",
   "metadata": {
    "id": "qHXwglFg4Hu8"
   },
   "source": [
    "# Importing the libraries"
   ]
  },
  {
   "cell_type": "code",
   "execution_count": 1,
   "metadata": {
    "executionInfo": {
     "elapsed": 1417,
     "status": "ok",
     "timestamp": 1602918351058,
     "user": {
      "displayName": "VINITA SHAH",
      "photoUrl": "https://lh3.googleusercontent.com/a-/AOh14GgZ-igs-Kva-5wF4IHwIdY2cc54IkugYz8WktWoceA=s64",
      "userId": "04604897596236979911"
     },
     "user_tz": -330
    },
    "id": "FYhqI8pP4Jf6"
   },
   "outputs": [],
   "source": [
    "import numpy as np\n",
    "import matplotlib.pyplot as plt\n",
    "import pandas as pd\n",
    "import sklearn"
   ]
  },
  {
   "cell_type": "markdown",
   "metadata": {
    "id": "UzjmhUo44xO1"
   },
   "source": [
    "# Import Dataset"
   ]
  },
  {
   "cell_type": "code",
   "execution_count": 2,
   "metadata": {
    "colab": {
     "base_uri": "https://localhost:8080/",
     "height": 402
    },
    "executionInfo": {
     "elapsed": 2519,
     "status": "ok",
     "timestamp": 1602918352175,
     "user": {
      "displayName": "VINITA SHAH",
      "photoUrl": "https://lh3.googleusercontent.com/a-/AOh14GgZ-igs-Kva-5wF4IHwIdY2cc54IkugYz8WktWoceA=s64",
      "userId": "04604897596236979911"
     },
     "user_tz": -330
    },
    "id": "OmK2KLOA40Pk",
    "outputId": "cf6c499c-d9fd-4943-c3bb-ebee51f940a0"
   },
   "outputs": [
    {
     "data": {
      "text/html": [
       "<div>\n",
       "<style scoped>\n",
       "    .dataframe tbody tr th:only-of-type {\n",
       "        vertical-align: middle;\n",
       "    }\n",
       "\n",
       "    .dataframe tbody tr th {\n",
       "        vertical-align: top;\n",
       "    }\n",
       "\n",
       "    .dataframe thead th {\n",
       "        text-align: right;\n",
       "    }\n",
       "</style>\n",
       "<table border=\"1\" class=\"dataframe\">\n",
       "  <thead>\n",
       "    <tr style=\"text-align: right;\">\n",
       "      <th></th>\n",
       "      <th>Sepal.Length</th>\n",
       "      <th>Sepal.Width</th>\n",
       "      <th>Petal.Length</th>\n",
       "      <th>Petal.Width</th>\n",
       "      <th>Species</th>\n",
       "    </tr>\n",
       "  </thead>\n",
       "  <tbody>\n",
       "    <tr>\n",
       "      <th>0</th>\n",
       "      <td>7.0</td>\n",
       "      <td>3.2</td>\n",
       "      <td>4.7</td>\n",
       "      <td>1.4</td>\n",
       "      <td>versicolor</td>\n",
       "    </tr>\n",
       "    <tr>\n",
       "      <th>1</th>\n",
       "      <td>6.4</td>\n",
       "      <td>3.2</td>\n",
       "      <td>4.5</td>\n",
       "      <td>1.5</td>\n",
       "      <td>versicolor</td>\n",
       "    </tr>\n",
       "    <tr>\n",
       "      <th>2</th>\n",
       "      <td>6.9</td>\n",
       "      <td>3.1</td>\n",
       "      <td>4.9</td>\n",
       "      <td>1.5</td>\n",
       "      <td>versicolor</td>\n",
       "    </tr>\n",
       "    <tr>\n",
       "      <th>3</th>\n",
       "      <td>5.5</td>\n",
       "      <td>2.3</td>\n",
       "      <td>4.0</td>\n",
       "      <td>1.3</td>\n",
       "      <td>versicolor</td>\n",
       "    </tr>\n",
       "    <tr>\n",
       "      <th>4</th>\n",
       "      <td>6.5</td>\n",
       "      <td>2.8</td>\n",
       "      <td>4.6</td>\n",
       "      <td>1.5</td>\n",
       "      <td>versicolor</td>\n",
       "    </tr>\n",
       "    <tr>\n",
       "      <th>...</th>\n",
       "      <td>...</td>\n",
       "      <td>...</td>\n",
       "      <td>...</td>\n",
       "      <td>...</td>\n",
       "      <td>...</td>\n",
       "    </tr>\n",
       "    <tr>\n",
       "      <th>95</th>\n",
       "      <td>6.7</td>\n",
       "      <td>3.0</td>\n",
       "      <td>5.2</td>\n",
       "      <td>2.3</td>\n",
       "      <td>virginica</td>\n",
       "    </tr>\n",
       "    <tr>\n",
       "      <th>96</th>\n",
       "      <td>6.3</td>\n",
       "      <td>2.5</td>\n",
       "      <td>5.0</td>\n",
       "      <td>1.9</td>\n",
       "      <td>virginica</td>\n",
       "    </tr>\n",
       "    <tr>\n",
       "      <th>97</th>\n",
       "      <td>6.5</td>\n",
       "      <td>3.0</td>\n",
       "      <td>5.2</td>\n",
       "      <td>2.0</td>\n",
       "      <td>virginica</td>\n",
       "    </tr>\n",
       "    <tr>\n",
       "      <th>98</th>\n",
       "      <td>6.2</td>\n",
       "      <td>3.4</td>\n",
       "      <td>5.4</td>\n",
       "      <td>2.3</td>\n",
       "      <td>virginica</td>\n",
       "    </tr>\n",
       "    <tr>\n",
       "      <th>99</th>\n",
       "      <td>5.9</td>\n",
       "      <td>3.0</td>\n",
       "      <td>5.1</td>\n",
       "      <td>1.8</td>\n",
       "      <td>virginica</td>\n",
       "    </tr>\n",
       "  </tbody>\n",
       "</table>\n",
       "<p>100 rows × 5 columns</p>\n",
       "</div>"
      ],
      "text/plain": [
       "    Sepal.Length  Sepal.Width  Petal.Length  Petal.Width     Species\n",
       "0            7.0          3.2           4.7          1.4  versicolor\n",
       "1            6.4          3.2           4.5          1.5  versicolor\n",
       "2            6.9          3.1           4.9          1.5  versicolor\n",
       "3            5.5          2.3           4.0          1.3  versicolor\n",
       "4            6.5          2.8           4.6          1.5  versicolor\n",
       "..           ...          ...           ...          ...         ...\n",
       "95           6.7          3.0           5.2          2.3   virginica\n",
       "96           6.3          2.5           5.0          1.9   virginica\n",
       "97           6.5          3.0           5.2          2.0   virginica\n",
       "98           6.2          3.4           5.4          2.3   virginica\n",
       "99           5.9          3.0           5.1          1.8   virginica\n",
       "\n",
       "[100 rows x 5 columns]"
      ]
     },
     "execution_count": 2,
     "metadata": {},
     "output_type": "execute_result"
    }
   ],
   "source": [
    "dataset = pd.read_csv('iris_species.csv')\n",
    "X = dataset.iloc[:, :-1].values\n",
    "y = dataset.iloc[:, -1].values\n",
    "dataset"
   ]
  },
  {
   "cell_type": "markdown",
   "metadata": {
    "id": "4ZG3n9He48DC"
   },
   "source": [
    "# Splitting Dataset"
   ]
  },
  {
   "cell_type": "code",
   "execution_count": 3,
   "metadata": {
    "executionInfo": {
     "elapsed": 1094,
     "status": "ok",
     "timestamp": 1602918383451,
     "user": {
      "displayName": "VINITA SHAH",
      "photoUrl": "https://lh3.googleusercontent.com/a-/AOh14GgZ-igs-Kva-5wF4IHwIdY2cc54IkugYz8WktWoceA=s64",
      "userId": "04604897596236979911"
     },
     "user_tz": -330
    },
    "id": "pB0oSMxm5AHS"
   },
   "outputs": [],
   "source": [
    "from sklearn.model_selection import train_test_split\n",
    "X_train, X_test, y_train, y_test = train_test_split(X, y, test_size = 0.25, random_state = 0)"
   ]
  },
  {
   "cell_type": "code",
   "execution_count": 4,
   "metadata": {
    "colab": {
     "base_uri": "https://localhost:8080/",
     "height": 1000
    },
    "executionInfo": {
     "elapsed": 1071,
     "status": "ok",
     "timestamp": 1602918398533,
     "user": {
      "displayName": "VINITA SHAH",
      "photoUrl": "https://lh3.googleusercontent.com/a-/AOh14GgZ-igs-Kva-5wF4IHwIdY2cc54IkugYz8WktWoceA=s64",
      "userId": "04604897596236979911"
     },
     "user_tz": -330
    },
    "id": "tWLBwSXx5mE9",
    "outputId": "b0d134af-e00b-4a8f-fafc-35360f96f0cb"
   },
   "outputs": [
    {
     "data": {
      "text/plain": [
       "array([[-1.77029021e+00, -1.11093453e+00, -2.29778941e+00,\n",
       "        -1.36286418e+00],\n",
       "       [ 3.81787899e-02,  1.20351240e+00, -2.41872570e-01,\n",
       "        -1.79822358e-01],\n",
       "       [-5.64644209e-01,  3.35594805e-01,  2.41872570e-01,\n",
       "         2.93394373e-01],\n",
       "       [ 1.88884540e-01, -2.43016927e-01,  8.46553995e-01,\n",
       "         1.23982783e+00],\n",
       "       [-1.12526960e-01, -2.43016927e-01, -1.20936285e-01,\n",
       "         2.93394373e-01],\n",
       "       [ 3.39590289e-01,  9.14206537e-01,  2.41872570e-01,\n",
       "         7.66611103e-01],\n",
       "       [ 1.69594204e+00, -2.43016927e-01,  1.45123542e+00,\n",
       "         5.30002738e-01],\n",
       "       [ 6.41001789e-01,  6.24900671e-01,  8.46553995e-01,\n",
       "         1.71304456e+00],\n",
       "       [ 2.14805929e+00, -8.21628660e-01,  2.41872570e+00,\n",
       "         1.47643620e+00],\n",
       "       [-7.15349959e-01, -5.32322793e-01,  2.41872570e-01,\n",
       "         5.30002738e-01],\n",
       "       [ 6.41001789e-01,  3.35594805e-01,  1.20936285e-01,\n",
       "         5.67860076e-02],\n",
       "       [-1.12526960e-01, -1.97885212e+00, -4.83745140e-01,\n",
       "        -4.16430723e-01],\n",
       "       [-2.07170171e+00, -1.11093453e+00, -4.83745140e-01,\n",
       "         5.67860076e-02],\n",
       "       [-8.66055709e-01, -1.11093453e+00,  1.20936285e-01,\n",
       "         7.66611103e-01],\n",
       "       [ 6.41001789e-01,  1.20351240e+00,  9.67490280e-01,\n",
       "         1.00321947e+00],\n",
       "       [ 1.88884540e-01,  9.14206537e-01, -4.83745140e-01,\n",
       "        -4.16430723e-01],\n",
       "       [ 1.88884540e-01, -5.32322793e-01,  4.83745140e-01,\n",
       "         5.30002738e-01],\n",
       "       [-7.15349959e-01, -8.21628660e-01, -1.08842656e+00,\n",
       "        -1.12625582e+00],\n",
       "       [-2.63232710e-01,  3.35594805e-01, -3.62808855e-01,\n",
       "        -6.53039088e-01],\n",
       "       [ 3.39590289e-01, -2.43016927e-01, -3.62808855e-01,\n",
       "        -4.16430723e-01],\n",
       "       [ 6.41001789e-01,  6.24900671e-01, -6.04681425e-01,\n",
       "        -6.53039088e-01],\n",
       "       [-7.15349959e-01, -5.32322793e-01, -9.67490280e-01,\n",
       "        -1.59947255e+00],\n",
       "       [-1.16746721e+00, -8.21628660e-01, -6.04681425e-01,\n",
       "        -1.12625582e+00],\n",
       "       [-1.01676146e+00,  3.35594805e-01, -9.67490280e-01,\n",
       "        -8.89647453e-01],\n",
       "       [-8.66055709e-01, -2.43016927e-01, -4.83745140e-01,\n",
       "        -8.89647453e-01],\n",
       "       [ 9.42413289e-01,  6.24900671e-01,  2.41872570e-01,\n",
       "         1.47643620e+00],\n",
       "       [ 1.39453054e+00,  2.07143000e+00,  1.45123542e+00,\n",
       "         1.94965293e+00],\n",
       "       [ 1.09311904e+00,  9.14206537e-01, -2.41872570e-01,\n",
       "        -6.53039088e-01],\n",
       "       [-1.31817296e+00,  3.35594805e-01, -4.83745140e-01,\n",
       "        -4.16430723e-01],\n",
       "       [-4.13938459e-01,  4.62889386e-02, -4.83745140e-01,\n",
       "        -4.16430723e-01],\n",
       "       [ 3.81787899e-02,  1.20351240e+00,  1.33029913e+00,\n",
       "         1.94965293e+00],\n",
       "       [-5.64644209e-01,  3.35594805e-01, -8.46553995e-01,\n",
       "        -4.16430723e-01],\n",
       "       [-4.13938459e-01,  1.49281827e+00, -4.83745140e-01,\n",
       "        -1.79822358e-01],\n",
       "       [-2.63232710e-01, -2.43016927e-01, -2.41872570e-01,\n",
       "        -1.12625582e+00],\n",
       "       [ 1.24382479e+00,  3.35594805e-01,  1.20936285e+00,\n",
       "         1.00321947e+00],\n",
       "       [-1.92099596e+00, -2.55746386e+00, -1.69310799e+00,\n",
       "        -1.59947255e+00],\n",
       "       [-1.16746721e+00, -1.40024039e+00, -1.45123542e+00,\n",
       "        -1.59947255e+00],\n",
       "       [ 3.39590289e-01,  3.35594805e-01,  7.25617710e-01,\n",
       "         2.93394373e-01],\n",
       "       [ 1.54523629e+00,  4.62889386e-02,  1.69310799e+00,\n",
       "         2.93394373e-01],\n",
       "       [ 1.39453054e+00,  3.35594805e-01,  1.08842656e+00,\n",
       "        -1.79822358e-01],\n",
       "       [ 2.14805929e+00,  3.35594805e-01,  1.45123542e+00,\n",
       "         1.47643620e+00],\n",
       "       [-7.15349959e-01, -5.32322793e-01, -1.20936285e+00,\n",
       "        -1.12625582e+00],\n",
       "       [-2.63232710e-01, -8.21628660e-01,  8.46553995e-01,\n",
       "        -6.53039088e-01],\n",
       "       [-1.01676146e+00,  4.62889386e-02, -1.57217170e+00,\n",
       "        -8.89647453e-01],\n",
       "       [ 9.42413289e-01,  6.24900671e-01,  6.04681425e-01,\n",
       "         1.00321947e+00],\n",
       "       [-1.01676146e+00, -1.11093453e+00, -1.20936285e+00,\n",
       "        -1.36286418e+00],\n",
       "       [-8.66055709e-01, -8.21628660e-01, -1.69310799e+00,\n",
       "        -1.59947255e+00],\n",
       "       [-8.66055709e-01, -2.43016927e-01, -9.67490280e-01,\n",
       "        -8.89647453e-01],\n",
       "       [ 3.39590289e-01,  3.35594805e-01,  3.62808855e-01,\n",
       "         7.66611103e-01],\n",
       "       [-1.12526960e-01,  1.49281827e+00,  6.04681425e-01,\n",
       "         1.47643620e+00],\n",
       "       [-4.13938459e-01, -1.97885212e+00,  1.20936285e-01,\n",
       "        -4.16430723e-01],\n",
       "       [-5.64644209e-01,  9.14206537e-01, -1.20936285e-01,\n",
       "         2.93394373e-01],\n",
       "       [ 6.41001789e-01,  1.20351240e+00,  9.67490280e-01,\n",
       "         1.94965293e+00],\n",
       "       [ 2.14805929e+00, -2.43016927e-01,  2.17685313e+00,\n",
       "         7.66611103e-01],\n",
       "       [-2.63232710e-01,  3.35594805e-01,  2.14825997e-15,\n",
       "         2.93394373e-01],\n",
       "       [ 4.90296039e-01,  3.35594805e-01, -6.04681425e-01,\n",
       "        -6.53039088e-01],\n",
       "       [ 3.81787899e-02, -1.68954626e+00, -6.04681425e-01,\n",
       "        -8.89647453e-01],\n",
       "       [ 2.44947079e+00,  2.65004173e+00,  1.81404427e+00,\n",
       "         7.66611103e-01],\n",
       "       [-8.66055709e-01,  4.62889386e-02, -8.46553995e-01,\n",
       "        -8.89647453e-01],\n",
       "       [-1.16746721e+00, -1.11093453e+00, -1.08842656e+00,\n",
       "        -8.89647453e-01],\n",
       "       [ 1.88884540e-01,  9.14206537e-01,  4.83745140e-01,\n",
       "         1.47643620e+00],\n",
       "       [ 6.41001789e-01, -1.11093453e+00,  1.08842656e+00,\n",
       "         2.93394373e-01],\n",
       "       [-4.13938459e-01, -1.97885212e+00, -1.08842656e+00,\n",
       "        -1.59947255e+00],\n",
       "       [-4.13938459e-01,  3.35594805e-01, -1.20936285e-01,\n",
       "         2.93394373e-01],\n",
       "       [ 9.42413289e-01,  9.14206537e-01,  9.67490280e-01,\n",
       "         1.47643620e+00],\n",
       "       [ 1.88884540e-01,  6.24900671e-01,  7.25617710e-01,\n",
       "         2.93394373e-01],\n",
       "       [ 6.41001789e-01,  6.24900671e-01, -2.41872570e-01,\n",
       "        -4.16430723e-01],\n",
       "       [-2.63232710e-01, -2.43016927e-01, -1.08842656e+00,\n",
       "        -8.89647453e-01],\n",
       "       [ 3.81787899e-02, -2.43016927e-01,  2.41872570e-01,\n",
       "        -4.16430723e-01],\n",
       "       [-1.61958446e+00, -5.32322793e-01, -1.20936285e+00,\n",
       "        -6.53039088e-01],\n",
       "       [ 3.81787899e-02, -1.11093453e+00,  1.20936285e-01,\n",
       "         5.30002738e-01],\n",
       "       [ 2.14805929e+00,  2.65004173e+00,  2.17685313e+00,\n",
       "         1.23982783e+00],\n",
       "       [-7.15349959e-01, -2.43016927e-01,  2.41872570e-01,\n",
       "         1.71304456e+00],\n",
       "       [-1.12526960e-01,  4.62889386e-02, -7.25617710e-01,\n",
       "        -8.89647453e-01],\n",
       "       [-1.01676146e+00, -5.32322793e-01, -8.46553995e-01,\n",
       "        -8.89647453e-01]])"
      ]
     },
     "execution_count": 4,
     "metadata": {},
     "output_type": "execute_result"
    }
   ],
   "source": [
    "from sklearn.preprocessing import StandardScaler\n",
    "sc = StandardScaler()\n",
    "X_train = sc.fit_transform(X_train)\n",
    "X_test = sc.transform(X_test)\n",
    "X_train"
   ]
  },
  {
   "cell_type": "markdown",
   "metadata": {
    "id": "_pS9KDtink_S"
   },
   "source": [
    "# **Model building**"
   ]
  },
  {
   "cell_type": "code",
   "execution_count": 5,
   "metadata": {
    "colab": {
     "base_uri": "https://localhost:8080/",
     "height": 101
    },
    "executionInfo": {
     "elapsed": 1089,
     "status": "ok",
     "timestamp": 1602918410920,
     "user": {
      "displayName": "VINITA SHAH",
      "photoUrl": "https://lh3.googleusercontent.com/a-/AOh14GgZ-igs-Kva-5wF4IHwIdY2cc54IkugYz8WktWoceA=s64",
      "userId": "04604897596236979911"
     },
     "user_tz": -330
    },
    "id": "uTn5CGWqnnbB",
    "outputId": "f6c04240-5b55-4a05-aef1-78803515fbf3"
   },
   "outputs": [
    {
     "data": {
      "text/plain": [
       "LogisticRegression(random_state=0)"
      ]
     },
     "execution_count": 5,
     "metadata": {},
     "output_type": "execute_result"
    }
   ],
   "source": [
    "from sklearn.linear_model import LogisticRegression\n",
    "classifier = LogisticRegression(random_state = 0)\n",
    "classifier.fit(X_train, y_train)"
   ]
  },
  {
   "cell_type": "code",
   "execution_count": 7,
   "metadata": {
    "colab": {
     "base_uri": "https://localhost:8080/",
     "height": 1000
    },
    "executionInfo": {
     "elapsed": 1337,
     "status": "ok",
     "timestamp": 1602918441664,
     "user": {
      "displayName": "VINITA SHAH",
      "photoUrl": "https://lh3.googleusercontent.com/a-/AOh14GgZ-igs-Kva-5wF4IHwIdY2cc54IkugYz8WktWoceA=s64",
      "userId": "04604897596236979911"
     },
     "user_tz": -330
    },
    "id": "UnkjB1k4nywh",
    "outputId": "834f787c-ffa8-45fe-efa3-cb07317d378a"
   },
   "outputs": [
    {
     "name": "stdout",
     "output_type": "stream",
     "text": [
      "[['versicolor' 'versicolor']\n",
      " ['virginica' 'virginica']\n",
      " ['versicolor' 'versicolor']\n",
      " ['virginica' 'virginica']\n",
      " ['virginica' 'virginica']\n",
      " ['virginica' 'virginica']\n",
      " ['versicolor' 'versicolor']\n",
      " ['virginica' 'virginica']\n",
      " ['virginica' 'virginica']\n",
      " ['virginica' 'virginica']\n",
      " ['virginica' 'virginica']\n",
      " ['virginica' 'virginica']\n",
      " ['virginica' 'virginica']\n",
      " ['versicolor' 'versicolor']\n",
      " ['versicolor' 'versicolor']\n",
      " ['versicolor' 'versicolor']\n",
      " ['virginica' 'versicolor']\n",
      " ['versicolor' 'versicolor']\n",
      " ['virginica' 'versicolor']\n",
      " ['versicolor' 'versicolor']\n",
      " ['versicolor' 'versicolor']\n",
      " ['virginica' 'virginica']\n",
      " ['versicolor' 'versicolor']\n",
      " ['virginica' 'virginica']\n",
      " ['versicolor' 'versicolor']]\n"
     ]
    }
   ],
   "source": [
    "y_pred = classifier.predict(X_test)\n",
    "print(np.concatenate((y_pred.reshape(len(y_pred),1), y_test.reshape(len(y_test),1)),1))"
   ]
  },
  {
   "cell_type": "markdown",
   "metadata": {
    "id": "BjW5GYkCn8UM"
   },
   "source": [
    "# **Performance Measure - Confusion Matrix, Accuracy**"
   ]
  },
  {
   "cell_type": "code",
   "execution_count": 8,
   "metadata": {
    "colab": {
     "base_uri": "https://localhost:8080/",
     "height": 68
    },
    "executionInfo": {
     "elapsed": 1084,
     "status": "ok",
     "timestamp": 1602134905488,
     "user": {
      "displayName": "VINITA SHAH",
      "photoUrl": "https://lh3.googleusercontent.com/a-/AOh14GgZ-igs-Kva-5wF4IHwIdY2cc54IkugYz8WktWoceA=s64",
      "userId": "04604897596236979911"
     },
     "user_tz": -330
    },
    "id": "AwJNdODSroeP",
    "outputId": "55be0da5-eae6-4573-9849-a40359be4e65"
   },
   "outputs": [
    {
     "name": "stdout",
     "output_type": "stream",
     "text": [
      "[[11  2]\n",
      " [ 0 12]]\n"
     ]
    },
    {
     "data": {
      "text/plain": [
       "0.92"
      ]
     },
     "execution_count": 8,
     "metadata": {},
     "output_type": "execute_result"
    }
   ],
   "source": [
    "from sklearn.metrics import confusion_matrix, accuracy_score\n",
    "cm = confusion_matrix(y_test, y_pred)\n",
    "print(cm)\n",
    "accuracy_score(y_test, y_pred)"
   ]
  },
  {
   "cell_type": "markdown",
   "metadata": {
    "id": "d2z-vI-dswqE"
   },
   "source": [
    "**Gain Chart**"
   ]
  },
  {
   "cell_type": "code",
   "execution_count": null,
   "metadata": {},
   "outputs": [],
   "source": [
    "pip install scikit-plot"
   ]
  },
  {
   "cell_type": "code",
   "execution_count": 9,
   "metadata": {
    "colab": {
     "base_uri": "https://localhost:8080/",
     "height": 312
    },
    "executionInfo": {
     "elapsed": 1246,
     "status": "ok",
     "timestamp": 1602135172403,
     "user": {
      "displayName": "VINITA SHAH",
      "photoUrl": "https://lh3.googleusercontent.com/a-/AOh14GgZ-igs-Kva-5wF4IHwIdY2cc54IkugYz8WktWoceA=s64",
      "userId": "04604897596236979911"
     },
     "user_tz": -330
    },
    "id": "Hbs_6CIkrqO0",
    "outputId": "bb5837b5-996b-45db-edea-3ff20a06010a"
   },
   "outputs": [
    {
     "data": {
      "text/plain": [
       "<AxesSubplot:title={'center':'Cumulative Gains Curve'}, xlabel='Percentage of sample', ylabel='Gain'>"
      ]
     },
     "execution_count": 9,
     "metadata": {},
     "output_type": "execute_result"
    },
    {
     "data": {
      "image/png": "[encoded data removed]",
      "text/plain": [
       "<Figure size 432x288 with 1 Axes>"
      ]
     },
     "metadata": {
      "needs_background": "light"
     },
     "output_type": "display_data"
    }
   ],
   "source": [
    "import scikitplot as skplt\n",
    "pred = classifier.predict_proba(X_test)\n",
    "skplt.metrics.plot_cumulative_gain(y_test, pred)"
   ]
  },
  {
   "cell_type": "markdown",
   "metadata": {
    "id": "EDvCzpao0waG"
   },
   "source": [
    "**Lift chart**"
   ]
  },
  {
   "cell_type": "code",
   "execution_count": 10,
   "metadata": {
    "colab": {
     "base_uri": "https://localhost:8080/",
     "height": 312
    },
    "executionInfo": {
     "elapsed": 1245,
     "status": "ok",
     "timestamp": 1602137333822,
     "user": {
      "displayName": "VINITA SHAH",
      "photoUrl": "https://lh3.googleusercontent.com/a-/AOh14GgZ-igs-Kva-5wF4IHwIdY2cc54IkugYz8WktWoceA=s64",
      "userId": "04604897596236979911"
     },
     "user_tz": -330
    },
    "id": "5IGT-9De0ybU",
    "outputId": "34d73903-36c9-48e6-845d-aea7f4a8c179"
   },
   "outputs": [
    {
     "data": {
      "text/plain": [
       "<AxesSubplot:title={'center':'Lift Curve'}, xlabel='Percentage of sample', ylabel='Lift'>"
      ]
     },
     "execution_count": 10,
     "metadata": {},
     "output_type": "execute_result"
    },
    {
     "data": {
      "image/png": "[encoded data removed]",
      "text/plain": [
       "<Figure size 432x288 with 1 Axes>"
      ]
     },
     "metadata": {
      "needs_background": "light"
     },
     "output_type": "display_data"
    }
   ],
   "source": [
    "skplt.metrics.plot_lift_curve(y_test,pred)"
   ]
  },
  {
   "cell_type": "code",
   "execution_count": null,
   "metadata": {},
   "outputs": [],
   "source": []
  }
 ],
 "metadata": {
  "colab": {
   "authorship_tag": "ABX9TyOsekCimw5Wv1ak2/TwyILH",
   "mount_file_id": "1MGrDfDwDrwiRpcCeJTI_vJR5hawGzP0-",
   "name": "Logistic_Regression.ipynb",
   "provenance": []
  },
  "kernelspec": {
   "display_name": "Python 3",
   "language": "python",
   "name": "python3"
  },
  "language_info": {
   "codemirror_mode": {
    "name": "ipython",
    "version": 3
   },
   "file_extension": ".py",
   "mimetype": "text/x-python",
   "name": "python",
   "nbconvert_exporter": "python",
   "pygments_lexer": "ipython3",
   "version": "3.9.5"
  }
 },
 "nbformat": 4,
 "nbformat_minor": 1
}
